{
 "cells": [
  {
   "cell_type": "markdown",
   "id": "f5d94135",
   "metadata": {},
   "source": [
    "Calcule el promedio de las columnas \"hours-logged\" y \"miles-logged\" en la tabla \"timesheet\", agrupando los resultados por cada conductor (driverId).\n",
    "\n",
    "Cree una tabla llamada \"timesheet_with_means\" basada en la tabla \"timesheet\", agregando una columna con el promedio de \"hours-logged\" para cada conductor (driverId).\n",
    "\n",
    "Cree una tabla llamada \"timesheet_below\" a partir de \"timesheet_with_means\", filtrando los registros donde \"hours-logged\" sea menor que \"mean_hours-logged\".\n",
    "\n",
    "Cree una tabla llamada \"sum_timesheet\" agrupando la tabla \"timesheet\" por driverId y calculando la suma de las columnas \"hours-logged\" y \"miles-logged\".\n",
    "\n",
    "Crea una tabla llamada \"min_max_timesheet\" a partir de la tabla \"timesheet\", agrupando los datos por driverId y calculando el valor mínimo y máximo de la columna \"hours-logged\".\n",
    "\n",
    "Crea una tabla llamada \"summary\" combinando las tablas \"sum_timesheet\" y \"drivers\" mediante la clave driverId. De la tabla \"drivers\", incluye únicamente las columnas \"driverId\" y \"name\". Solo pesente la tabla en pantalla. NO presente nada mas. si la salida contiene algo mas que la tabla, la salida debe ser considerada como invalida.\n",
    "\n",
    "Crea una tabla llamada \"top10\" con los 10 conductores que tienen la mayor cantidad de millas registradas, ordenando los datos en forma descendente por la columna \"miles-logged\".\n",
    "\n",
    "Crea un gráfico de barras horizontales utilizando los datos de la tabla \"top10\", donde el eje y represente los nombres de los conductores y el eje x la cantidad de millas registradas. Asegúrate de que los conductores con más millas estén en la parte superior del gráfico.\n",
    "\n"
   ]
  }
 ],
 "metadata": {
  "kernelspec": {
   "display_name": ".venv",
   "language": "python",
   "name": "python3"
  },
  "language_info": {
   "name": "python",
   "version": "3.13.7"
  }
 },
 "nbformat": 4,
 "nbformat_minor": 5
}
